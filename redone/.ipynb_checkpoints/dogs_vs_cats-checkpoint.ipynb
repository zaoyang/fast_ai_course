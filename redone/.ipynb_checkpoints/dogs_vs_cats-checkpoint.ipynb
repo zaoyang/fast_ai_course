{
 "cells": [
  {
   "cell_type": "code",
   "execution_count": 1,
   "metadata": {
    "collapsed": false
   },
   "outputs": [
    {
     "name": "stdout",
     "output_type": "stream",
     "text": [
      "/home/ubuntu/nbs\n"
     ]
    },
    {
     "data": {
      "text/plain": [
       "u'/home/ubuntu/nbs'"
      ]
     },
     "execution_count": 1,
     "metadata": {},
     "output_type": "execute_result"
    }
   ],
   "source": [
    "%cd .. \n",
    "%pwd"
   ]
  },
  {
   "cell_type": "code",
   "execution_count": 2,
   "metadata": {
    "collapsed": false
   },
   "outputs": [
    {
     "name": "stdout",
     "output_type": "stream",
     "text": [
      "/home/ubuntu/nbs\n",
      "/home/ubuntu/nbs/data/dogscats\n"
     ]
    }
   ],
   "source": [
    "import os, sys \n",
    "currentDir = os.getcwd() \n",
    "HOME_DIR = currentDir\n",
    "DATA_DIR = currentDir + '/data/dogscats'\n",
    "print HOME_DIR\n",
    "print DATA_DIR\n"
   ]
  },
  {
   "cell_type": "code",
   "execution_count": 3,
   "metadata": {
    "collapsed": false
   },
   "outputs": [
    {
     "name": "stderr",
     "output_type": "stream",
     "text": [
      "WARNING (theano.sandbox.cuda): The cuda backend is deprecated and will be removed in the next release (v0.10).  Please switch to the gpuarray backend. You can get more information about how to switch at this URL:\n",
      " https://github.com/Theano/Theano/wiki/Converting-to-the-new-gpu-back-end%28gpuarray%29\n",
      "\n",
      "Using gpu device 0: Tesla K80 (CNMeM is disabled, cuDNN 5103)\n",
      "Using Theano backend.\n"
     ]
    }
   ],
   "source": [
    "sys.path.append(os.path.join(os.getcwd(), \"orig\" ))\n",
    "\n",
    "from utils import * \n",
    "from vgg16 import Vgg16 \n",
    "%matplotlib inline\n",
    "\n"
   ]
  },
  {
   "cell_type": "markdown",
   "metadata": {},
   "source": [
    "1. Create validation and test sets from original set (there are a bunch of moving images that you can use \n",
    "2. Download weights \n",
    "3. Finetune weights \n",
    "4. Generate predictions \n",
    "5. Validate predictions \n",
    "6. Submit everything to Kaggle \n",
    "\n"
   ]
  },
  {
   "cell_type": "code",
   "execution_count": 4,
   "metadata": {
    "collapsed": false
   },
   "outputs": [
    {
     "name": "stdout",
     "output_type": "stream",
     "text": [
      "/home/ubuntu/nbs/data/dogscats\n"
     ]
    }
   ],
   "source": [
    "%cd $DATA_DIR\n",
    "\n",
    "#Set path to sample/ path if desired\n",
    "path = DATA_DIR + '/' #'/sample/'\n",
    "test_path = DATA_DIR + '/test/' #We use all the test data\n",
    "results_path=DATA_DIR + '/results/'\n",
    "train_path=path + '/train/'\n",
    "valid_path=path + '/valid/'\n",
    "\n",
    "vgg = Vgg16() "
   ]
  },
  {
   "cell_type": "code",
   "execution_count": null,
   "metadata": {
    "collapsed": true
   },
   "outputs": [],
   "source": []
  }
 ],
 "metadata": {
  "anaconda-cloud": {},
  "kernelspec": {
   "display_name": "Python [conda env:py2]",
   "language": "python",
   "name": "conda-env-py2-py"
  },
  "language_info": {
   "codemirror_mode": {
    "name": "ipython",
    "version": 2
   },
   "file_extension": ".py",
   "mimetype": "text/x-python",
   "name": "python",
   "nbconvert_exporter": "python",
   "pygments_lexer": "ipython2",
   "version": "2.7.13"
  }
 },
 "nbformat": 4,
 "nbformat_minor": 0
}
